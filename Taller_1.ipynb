{
  "nbformat": 4,
  "nbformat_minor": 0,
  "metadata": {
    "colab": {
      "name": " Taller 1",
      "provenance": []
    },
    "kernelspec": {
      "name": "python3",
      "display_name": "Python 3"
    }
  },
  "cells": [
    {
      "cell_type": "markdown",
      "metadata": {
        "id": "L70QZEvawC2_"
      },
      "source": [
        "\n",
        "# Taller 1\n",
        "## Punto 1\n",
        "Escriba un programa que simule el juego Piedra, papel, tijera para dos jugadores (Inés y Juan).\n",
        "\n",
        "Las reglas del juego son las siguientes:\n",
        "\n",
        "1.) Simultáneamente, los dos jugadores muestran una mano en tres posibles posiciones:\n",
        "  * Piedra: se muestra el puño cerrado.\n",
        "  * Papel: se muestra la palma de la mano.\n",
        "  * Tijera: se muestra la palma de la mano con los dedos separados en dos grupos.\n",
        "\n",
        "2.) El jugador que ha sacado Piedra gana al jugador que ha sacado Tijera.\n",
        "\n",
        "3.) El jugador que ha sacado Tijera gana al jugador que ha sacado Papel.\n",
        "\n",
        "4.) El jugador que ha sacado Papel gana al jugador que ha sacado Piedra."
      ]
    },
    {
      "cell_type": "code",
      "metadata": {
        "id": "xMGTsXFF1iP_"
      },
      "source": [
        "# importamos la librería Random, y le damos como nombre ran dentro del programa\n",
        "import random as ran"
      ],
      "execution_count": null,
      "outputs": []
    },
    {
      "cell_type": "code",
      "metadata": {
        "id": "mMEn5Vs-y5yN",
        "colab": {
          "base_uri": "https://localhost:8080/",
          "height": 67
        },
        "outputId": "f892df4c-fe84-43d0-ee80-a954bfdc99fd"
      },
      "source": [
        "Ines = ran.choice([\"Piedra\",\"Papel\",\"Tijera\"])\n",
        "print(f'la jugadora Ines sacó {Ines}')\n",
        "Juan = ran.choice([\"Piedra\",\"Papel\",\"Tijera\"])\n",
        "print(f'El jugador Juan sacó {Juan}')\n",
        "if Juan == Ines:\n",
        "    print(\"Empate\")\n",
        "else:\n",
        "    if Juan == \"Papel\" and Ines == \"Piedra\":\n",
        "      print(\"El ganador es Juan\")\n",
        "    else:\n",
        "        if Juan == \"Papel\" and Ines == \"Tijera\":\n",
        "           print(\"la ganadora es Ines\")\n",
        "        else:\n",
        "            if Juan == \"Piedra\" and Ines == \"Papel\":\n",
        "                print(\"la ganadora es Ines\")\n",
        "            else:\n",
        "                if Juan == \"Piedra\" and Ines == \"Tijera\":\n",
        "                    print(\"El ganador es Juan\")\n",
        "                else:\n",
        "                    if Juan == \"Tijera\" and Ines == \"Papel\":\n",
        "                        print(\"El ganador es Juan\")\n",
        "                    else:\n",
        "                        if Juan == \"Tijera\" and Ines == \"Piedra\":\n",
        "                            print(\"La ganadora es Ines\")\n",
        "\n"
      ],
      "execution_count": null,
      "outputs": [
        {
          "output_type": "stream",
          "text": [
            "la jugadora Ines sacó Tijera\n",
            "El jugador Juan sacó Tijera\n",
            "Empate\n"
          ],
          "name": "stdout"
        }
      ]
    },
    {
      "cell_type": "markdown",
      "metadata": {
        "id": "wRVc6HVaBBXH"
      },
      "source": [
        "# Punto 2\n",
        "Generar una matriz de 7 por 9. Las primeras 3 columnas de la matriz tienen que tener el valor 0. \n",
        "\n",
        "La cuarta columna debe tener el valor 0.5, excepto por el último valor de esa columna, que tiene que ser 0.7.\n",
        "\n",
        "Las otras tres columnas deben tener el valor 1.\n",
        "\n",
        "* Luego imprimir la matriz\n",
        "* Imprimir también el promedio de la ultima fila."
      ]
    },
    {
      "cell_type": "code",
      "metadata": {
        "id": "D8jct6DSBKOp"
      },
      "source": [
        "# importamos la librería numpy, y le damos como nombre np dentro del programa\n",
        "import numpy as np"
      ],
      "execution_count": null,
      "outputs": []
    },
    {
      "cell_type": "markdown",
      "metadata": {
        "id": "KFQCBwd0uVIT"
      },
      "source": [
        "Profe hice dos versiones de este punto, ya que por el enunciado entiendo que son 7 filas y 9 columnas, sin embargo por las especificaciones pareciera al contrario."
      ]
    },
    {
      "cell_type": "code",
      "metadata": {
        "id": "-gcofVfpGrwJ",
        "colab": {
          "base_uri": "https://localhost:8080/",
          "height": 151
        },
        "outputId": "200b1b2b-f978-44df-d779-313ba2a9c71e"
      },
      "source": [
        "#Se inicia la creación de matriz\n",
        "dimensiones=(7,9)\n",
        "m = np.zeros(dimensiones)\n",
        "\n",
        "m[:,3]=m[:,3]+0.5\n",
        "m[6,3]=m[6,3]+0.2\n",
        "\n",
        "m[:,4]=m[:,4]+1\n",
        "m[:,5]=m[:,5]+1\n",
        "m[:,6]=m[:,6]+1\n",
        "print(m)\n",
        "\n",
        "promedio= np.average(m[6,:])\n",
        "print(promedio)"
      ],
      "execution_count": null,
      "outputs": [
        {
          "output_type": "stream",
          "text": [
            "[[0.  0.  0.  0.5 1.  1.  1.  0.  0. ]\n",
            " [0.  0.  0.  0.5 1.  1.  1.  0.  0. ]\n",
            " [0.  0.  0.  0.5 1.  1.  1.  0.  0. ]\n",
            " [0.  0.  0.  0.5 1.  1.  1.  0.  0. ]\n",
            " [0.  0.  0.  0.5 1.  1.  1.  0.  0. ]\n",
            " [0.  0.  0.  0.5 1.  1.  1.  0.  0. ]\n",
            " [0.  0.  0.  0.7 1.  1.  1.  0.  0. ]]\n",
            "0.41111111111111115\n"
          ],
          "name": "stdout"
        }
      ]
    },
    {
      "cell_type": "markdown",
      "metadata": {
        "id": "yh4xlQocG43m"
      },
      "source": [
        "**Segunda** **opción**"
      ]
    },
    {
      "cell_type": "code",
      "metadata": {
        "id": "_otzOuDmBkah",
        "colab": {
          "base_uri": "https://localhost:8080/",
          "height": 185
        },
        "outputId": "27ab4d64-6bab-466a-f1ee-d0c59bc592e4"
      },
      "source": [
        "#Se inicia la creación de matriz\n",
        "dimensiones=(9,7)\n",
        "m = np.zeros(dimensiones)\n",
        "\n",
        "m[:,3]=m[:,3]+0.5\n",
        "m[8,3]=m[8,3]+0.2\n",
        "\n",
        "m[:,4]=m[:,4]+1\n",
        "m[:,5]=m[:,5]+1\n",
        "m[:,6]=m[:,6]+1\n",
        "print(m)\n",
        "\n",
        "promedio= np.average(m[8,:])\n",
        "print(promedio)"
      ],
      "execution_count": null,
      "outputs": [
        {
          "output_type": "stream",
          "text": [
            "[[0.  0.  0.  0.5 1.  1.  1. ]\n",
            " [0.  0.  0.  0.5 1.  1.  1. ]\n",
            " [0.  0.  0.  0.5 1.  1.  1. ]\n",
            " [0.  0.  0.  0.5 1.  1.  1. ]\n",
            " [0.  0.  0.  0.5 1.  1.  1. ]\n",
            " [0.  0.  0.  0.5 1.  1.  1. ]\n",
            " [0.  0.  0.  0.5 1.  1.  1. ]\n",
            " [0.  0.  0.  0.5 1.  1.  1. ]\n",
            " [0.  0.  0.  0.7 1.  1.  1. ]]\n",
            "0.5285714285714286\n"
          ],
          "name": "stdout"
        }
      ]
    },
    {
      "cell_type": "markdown",
      "metadata": {
        "id": "-sLwHqxa9wtl"
      },
      "source": [
        "# Punto 3\n",
        "La siguiente linea crea una matriz aleatoria de 5 por 5 con valores entre 0 y 1\n",
        "\n",
        "```\n",
        "matriz_aleatoria=np.random.rand(5,5) \n",
        "print(matriz_aleatoria)\n",
        "```\n",
        "\n",
        "Imprimir las posiciones (Fila y columna) de los elementos de la matriz que son mayores que 0.5\n"
      ]
    },
    {
      "cell_type": "code",
      "metadata": {
        "id": "x4439NhX93HV",
        "colab": {
          "base_uri": "https://localhost:8080/",
          "height": 101
        },
        "outputId": "75d64889-6de1-43b0-9154-2a1620efaccf"
      },
      "source": [
        "matriz_aleatoria=np.random.rand(5,5) \n",
        "print(matriz_aleatoria)\n"
      ],
      "execution_count": null,
      "outputs": [
        {
          "output_type": "stream",
          "text": [
            "[[0.76402546 0.03247289 0.73331157 0.22607407 0.69935162]\n",
            " [0.81750949 0.85495376 0.82772199 0.99515839 0.06387794]\n",
            " [0.74326614 0.82232054 0.34120405 0.50259664 0.22268001]\n",
            " [0.82256938 0.75609366 0.90250734 0.7356281  0.903153  ]\n",
            " [0.3680827  0.46806126 0.44571696 0.65456614 0.82094761]]\n"
          ],
          "name": "stdout"
        }
      ]
    },
    {
      "cell_type": "code",
      "metadata": {
        "id": "Yd731cJgcnw3",
        "colab": {
          "base_uri": "https://localhost:8080/",
          "height": 50
        },
        "outputId": "0cf0e3c2-d320-4d21-995f-6839b93f47ff"
      },
      "source": [
        "np.where(matriz_aleatoria > 0.5)"
      ],
      "execution_count": null,
      "outputs": [
        {
          "output_type": "execute_result",
          "data": {
            "text/plain": [
              "(array([0, 0, 0, 1, 1, 1, 1, 2, 2, 2, 3, 3, 3, 3, 3, 4, 4]),\n",
              " array([0, 2, 4, 0, 1, 2, 3, 0, 1, 3, 0, 1, 2, 3, 4, 3, 4]))"
            ]
          },
          "metadata": {
            "tags": []
          },
          "execution_count": 33
        }
      ]
    }
  ]
}