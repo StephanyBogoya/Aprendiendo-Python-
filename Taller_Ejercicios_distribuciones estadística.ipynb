{
  "nbformat": 4,
  "nbformat_minor": 0,
  "metadata": {
    "colab": {
      "name": "Taller Ejercicios_distribuciones.ipynb",
      "provenance": [],
      "collapsed_sections": []
    },
    "kernelspec": {
      "name": "python3",
      "display_name": "Python 3"
    }
  },
  "cells": [
    {
      "cell_type": "code",
      "metadata": {
        "id": "Q-Vl3iDZp7y6"
      },
      "source": [
        "import itertools\n",
        "import numpy as np\n",
        "import pandas as pd\n",
        "from scipy import stats\n",
        "import matplotlib.pyplot as plt\n",
        "from math import factorial\n",
        "%matplotlib inline"
      ],
      "execution_count": null,
      "outputs": []
    },
    {
      "cell_type": "markdown",
      "metadata": {
        "id": "4Zxthg3NqHOn"
      },
      "source": [
        "#Ejercicios\n",
        "\n",
        "##Ejercicio 1\n",
        "a última novela de un autor ha tenido un gran éxito, hasta el punto de que el 80% de los lectores ya la han leído.\n",
        "\n",
        "Un grupo de 4 amigos son aficionados a la lectura:\n",
        "\n",
        "1. ¿Cuál es la probabilidad de que en el grupo hayan leído la novela 2 personas?\n",
        "\n",
        " \n",
        "\n",
        "2. ¿Y cómo máximo 2?\n",
        "\n"
      ]
    },
    {
      "cell_type": "code",
      "metadata": {
        "colab": {
          "base_uri": "https://localhost:8080/"
        },
        "id": "-CxDA4oh0Jm2",
        "outputId": "773d10d3-1f73-4ddc-8cb7-c0384e08c1a1"
      },
      "source": [
        "n= 4\n",
        "k= 2\n",
        "p = 0.8\n",
        "q= 0.2\n",
        "\n",
        "X = stats.binom(4,0.8)\n",
        "print(f'la probabilidad de que en el grupo hayan leído la novela 2 personas: {X.pmf(2)}')\n"
      ],
      "execution_count": null,
      "outputs": [
        {
          "output_type": "stream",
          "text": [
            "la probabilidad de que en el grupo hayan leído la novela 2 personas: 0.15360000000000001\n"
          ],
          "name": "stdout"
        }
      ]
    },
    {
      "cell_type": "code",
      "metadata": {
        "colab": {
          "base_uri": "https://localhost:8080/"
        },
        "id": "f1OXd2yDzEGo",
        "outputId": "8c4770ce-4eaf-44c5-803b-ad24c9fbcf55"
      },
      "source": [
        "binomial = stats.binom(n,p)\n",
        "novela2= (binomial.cdf(2))\n",
        "print(f'La probabilidad de que cómo máximo 2 es de: {novela2}')"
      ],
      "execution_count": null,
      "outputs": [
        {
          "output_type": "stream",
          "text": [
            "La probabilidad de que cómo máximo 2 es de: 0.18079999999999993\n"
          ],
          "name": "stdout"
        }
      ]
    },
    {
      "cell_type": "markdown",
      "metadata": {
        "id": "MDE5o6V3qVsO"
      },
      "source": [
        "##Ejercicio 2\n",
        "Un agente de seguros vende pólizas a cinco personas de la misma edad y que disfrutan de buena salud.\n",
        "\n",
        "Según las tablas actuales, la probabilidad de que una persona en estas condiciones viva 30 años o más es 2/3.\n",
        "\n",
        "Hállese la probabilidad de que, transcurridos 30 años, vivan:\n",
        "\n",
        "1. Las cinco personas\n",
        "\n",
        " \n",
        "\n",
        "2. Al menos tres personas\n",
        "\n",
        " \n",
        "\n",
        "3. Exactamente dos personas"
      ]
    },
    {
      "cell_type": "code",
      "metadata": {
        "id": "h8eAAk5BqcLl",
        "colab": {
          "base_uri": "https://localhost:8080/"
        },
        "outputId": "17bb1570-9846-454c-c669-0396daf9d76e"
      },
      "source": [
        "p=2/3\n",
        "q= 1/3\n",
        "n=5\n",
        "\n",
        "X = stats.binom(5,(2/3))\n",
        "print(f'a probabilidad de que, transcurridos 30 años, vivan Las cinco personas {X.pmf(5)}')"
      ],
      "execution_count": null,
      "outputs": [
        {
          "output_type": "stream",
          "text": [
            "a probabilidad de que, transcurridos 30 años, vivan Las cinco personas 0.13168724279835387\n"
          ],
          "name": "stdout"
        }
      ]
    },
    {
      "cell_type": "code",
      "metadata": {
        "id": "RQWOPxJa3482",
        "colab": {
          "base_uri": "https://localhost:8080/"
        },
        "outputId": "102d54e2-34c4-4c9b-abc2-6c807dc2fe6c"
      },
      "source": [
        "X = stats.binom(5,(2/3))\n",
        "print(f'La probabilidad de que, transcurridos 30 años, vivan Al menos tres personas: {X.sf(2)}')"
      ],
      "execution_count": null,
      "outputs": [
        {
          "output_type": "stream",
          "text": [
            "La probabilidad de que, transcurridos 30 años, vivan Al menos tres personas: 0.7901234567901234\n"
          ],
          "name": "stdout"
        }
      ]
    },
    {
      "cell_type": "code",
      "metadata": {
        "id": "5FMkIRgP2_dY",
        "colab": {
          "base_uri": "https://localhost:8080/"
        },
        "outputId": "af89fbef-e6a0-41db-8252-f23f93599d80"
      },
      "source": [
        "X = stats.binom(5,(2/3))\n",
        "print(f'La probabilidad de que, transcurridos 30 años, vivan exactamente dos personas: {X.pmf(2)}')\n",
        "\n"
      ],
      "execution_count": null,
      "outputs": [
        {
          "output_type": "stream",
          "text": [
            "La probabilidad de que, transcurridos 30 años, vivan exactamente dos personas: 0.16460905349794241\n"
          ],
          "name": "stdout"
        }
      ]
    },
    {
      "cell_type": "markdown",
      "metadata": {
        "id": "w5GiHRw8qfiy"
      },
      "source": [
        "##Ejercicio 3\n",
        "Se lanza una moneda cuatro veces.\n",
        "\n",
        "Calcular la probabilidad de que salgan más caras que cruces."
      ]
    },
    {
      "cell_type": "code",
      "metadata": {
        "id": "n5tGEZqjq0ZF",
        "colab": {
          "base_uri": "https://localhost:8080/"
        },
        "outputId": "2be25b52-f5fb-4d2f-bda9-0d609e781a6c"
      },
      "source": [
        "p= 0.5\n",
        "n= 4\n",
        "M = stats.binom(4,0.5)\n",
        "caras = (M.sf(2))\n",
        "print(f'La probabilidad de que salgan más caras que cruces es: {caras}')"
      ],
      "execution_count": null,
      "outputs": [
        {
          "output_type": "stream",
          "text": [
            "La probabilidad de que salgan más caras que cruces es: 0.3125\n"
          ],
          "name": "stdout"
        }
      ]
    },
    {
      "cell_type": "markdown",
      "metadata": {
        "id": "xB-w6Oxpq3-4"
      },
      "source": [
        "##Ejercicio 4\n",
        "Si de seis a siete de la tarde se admite que un número de teléfono de\n",
        "cada cinco está comunicando.\n",
        "\n",
        "¿Cuál es la probabilidad de que, cuando se marquen 10 números de\n",
        "teléfono elegidos al azar, sólo comuniquen dos?"
      ]
    },
    {
      "cell_type": "code",
      "metadata": {
        "id": "QAXR12iPq52i",
        "colab": {
          "base_uri": "https://localhost:8080/"
        },
        "outputId": "adbf6cca-1d8c-41b4-d90e-84c6f9ebf30c"
      },
      "source": [
        "p= 1/5\n",
        "n= 10\n",
        "X= stats.binom(10,(1/5))\n",
        "tel = (X.pmf(2))\n",
        "print(f'La probabilidad de que cuando se marquen 10 números de teléfono elegidos al azar, sólo se comuniquen dos es de: {tel}')"
      ],
      "execution_count": null,
      "outputs": [
        {
          "output_type": "stream",
          "text": [
            "La probabilidad de que cuando se marquen 10 números de teléfono elegidos al azar, sólo se comuniquen dos es de: 0.301989888\n"
          ],
          "name": "stdout"
        }
      ]
    },
    {
      "cell_type": "markdown",
      "metadata": {
        "id": "9O_xpldqrojO"
      },
      "source": [
        "##Ejercicio 5\n",
        "En unas pruebas de alcoholemia se ha observado que el 5% de los conductores controlados dan positivo en la prueba y que el 10% de los conductores controlados no llevan puesto el cinturón de seguridad.\n",
        "\n",
        "También se ha observado que las dos infracciones son independientes.\n",
        "\n",
        "Un guardia de tráfico para cinco conductores al azar. Si tenemos en cuenta que el número de conductores es suficientemente importante como para estimar que la proporción de infractores no varía al hacer la selección.\n",
        "\n",
        " \n",
        "\n",
        "1. Determinar la probabilidad de que exactamente tres conductores hayan cometido alguna de las dos infracciones.\n",
        "\n",
        " \n",
        "\n",
        "2. Determine la probabilidad de que al menos uno de los conductores controlados haya cometido alguna de las dos infracciones.\n",
        "\n"
      ]
    },
    {
      "cell_type": "code",
      "metadata": {
        "id": "vH0VaiIXrvoy",
        "colab": {
          "base_uri": "https://localhost:8080/"
        },
        "outputId": "efeedda6-619a-4b2e-f0a2-f8ed6c6fe20b"
      },
      "source": [
        "PAUB = (0.05 + 0.1) - (0.05 * 0.1)\n",
        "binomial = stats.binom(5,PAUB)\n",
        "infraccion = (binomial.pmf(3))\n",
        "print(f'La probabilidad de que exactamente tres conductores hayan cometido alguna de las dos infracciones es de: {infraccion}')"
      ],
      "execution_count": null,
      "outputs": [
        {
          "output_type": "stream",
          "text": [
            "La probabilidad de que exactamente tres conductores hayan cometido alguna de las dos infracciones es de: 0.022286210906249992\n"
          ],
          "name": "stdout"
        }
      ]
    },
    {
      "cell_type": "code",
      "metadata": {
        "colab": {
          "base_uri": "https://localhost:8080/"
        },
        "id": "w2xl8p6335Vt",
        "outputId": "7f1ccab4-1f29-4902-ab60-bed692cadc01"
      },
      "source": [
        "infraccion2 = (binomial.sf(0))\n",
        "print(f'La probabilidad de que al menos uno de los conductores controlados haya cometido alguna de las dos infracciones es de: {infraccion2}')"
      ],
      "execution_count": null,
      "outputs": [
        {
          "output_type": "stream",
          "text": [
            "La probabilidad de que al menos uno de los conductores controlados haya cometido alguna de las dos infracciones es de: 0.543090094215625\n"
          ],
          "name": "stdout"
        }
      ]
    },
    {
      "cell_type": "markdown",
      "metadata": {
        "id": "-u-9KM7Hr-74"
      },
      "source": [
        "##Ejercicio 6\n",
        "En una ciudad se estima que la temperatura máxima en el mes de junio sigue una distribución normal, con media $23^{\\circ}$ y desviación típica $5^{\\circ}$.\n",
        "\n",
        " \n",
        "\n",
        "Calcular el número de días del mes en los que se espera alcanzar máximas entre $21^{\\circ}$ y $27^{\\circ}$."
      ]
    },
    {
      "cell_type": "code",
      "metadata": {
        "id": "oTSi_bb0sJAL",
        "colab": {
          "base_uri": "https://localhost:8080/"
        },
        "outputId": "fe2740d4-24bb-4537-996c-a684e284b1a2"
      },
      "source": [
        "X = stats.norm(23,5)\n",
        "cdf1=X.cdf(21)\n",
        "cdf2= X.cdf(27)\n",
        "print(cdf2-cdf1)"
      ],
      "execution_count": null,
      "outputs": [
        {
          "output_type": "stream",
          "text": [
            "0.44356634302692755\n"
          ],
          "name": "stdout"
        }
      ]
    },
    {
      "cell_type": "code",
      "metadata": {
        "id": "FtRjVedwGF8G",
        "colab": {
          "base_uri": "https://localhost:8080/"
        },
        "outputId": "9b83380c-4ac2-48cc-90b1-ec1da1d1e273"
      },
      "source": [
        "print(f'Número de días del mes en los que se espera alcanzar máximas entre  21∘  y  27∘: {round((cdf2-cdf1)*30)}')"
      ],
      "execution_count": null,
      "outputs": [
        {
          "output_type": "stream",
          "text": [
            "Número de días del mes en los que se espera alcanzar máximas entre  21∘  y  27∘: 13.0\n"
          ],
          "name": "stdout"
        }
      ]
    },
    {
      "cell_type": "markdown",
      "metadata": {
        "id": "syB1yR3JsLq8"
      },
      "source": [
        "##Ejercicio 7\n",
        "La media de los pesos de 500 estudiantes de un colegio es 70 *kg* y la desviación típica 3 *kg*.\n",
        "\n",
        " \n",
        "\n",
        "Suponiendo que los pesos se distribuyen normalmente, hallar cuántos estudiantes pesan:\n",
        "\n",
        "1. Entre 60 *kg* y 75 *kg*.\n",
        "2. Más de 90 *kg*.\n",
        "3. Menos de 64 *kg*.\n",
        "4. 64 *kg*.\n",
        "5. 64 *kg*  o menos."
      ]
    },
    {
      "cell_type": "markdown",
      "metadata": {
        "id": "Yr6iGx5JBoQB"
      },
      "source": [
        "$\\mu$= 500       $\\sigma$= 3"
      ]
    },
    {
      "cell_type": "markdown",
      "metadata": {
        "id": "_-y3VMCIKJ5a"
      },
      "source": [
        "**1). Entre 60 Kg y 75 Kg**"
      ]
    },
    {
      "cell_type": "code",
      "metadata": {
        "id": "Wb3HAVjost_7",
        "colab": {
          "base_uri": "https://localhost:8080/"
        },
        "outputId": "974f0008-0111-425c-8a48-8fb153422561"
      },
      "source": [
        "P = stats.norm(70,3)\n",
        "P60=P.cdf(60)\n",
        "P75= P.cdf(75)\n",
        "print(P75-P60)\n"
      ],
      "execution_count": null,
      "outputs": [
        {
          "output_type": "stream",
          "text": [
            "0.9517805873939885\n"
          ],
          "name": "stdout"
        }
      ]
    },
    {
      "cell_type": "code",
      "metadata": {
        "colab": {
          "base_uri": "https://localhost:8080/"
        },
        "id": "Z-LxEnS7D9sM",
        "outputId": "e99ca9e5-5967-48f0-eba3-b23731650a8b"
      },
      "source": [
        "print(f'los estudiantes que pesan entre 60Kg y 75 Kg son:  {round((P75-P60)*500)}')"
      ],
      "execution_count": null,
      "outputs": [
        {
          "output_type": "stream",
          "text": [
            "los estudiantes que pesan entre 60Kg y 75 Kg son:  476.0\n"
          ],
          "name": "stdout"
        }
      ]
    },
    {
      "cell_type": "markdown",
      "metadata": {
        "id": "HkeThgMnKTYH"
      },
      "source": [
        "**2). Más de 90 Kg**"
      ]
    },
    {
      "cell_type": "code",
      "metadata": {
        "colab": {
          "base_uri": "https://localhost:8080/"
        },
        "id": "t7ZD8k-8FCFm",
        "outputId": "3261853c-f710-4677-b284-0f649443adff"
      },
      "source": [
        "x=P.cdf(90)\n",
        "Y= 1-x\n",
        "print(f'los estudiantes que pesan más de 90 son:  {round((Y)*500)}')"
      ],
      "execution_count": null,
      "outputs": [
        {
          "output_type": "stream",
          "text": [
            "los estudiantes que pesan más de 90 son:  0.0\n"
          ],
          "name": "stdout"
        }
      ]
    },
    {
      "cell_type": "markdown",
      "metadata": {
        "id": "rf917gZIM0aJ"
      },
      "source": [
        "**3). Alumnos menos 64**"
      ]
    },
    {
      "cell_type": "code",
      "metadata": {
        "colab": {
          "base_uri": "https://localhost:8080/"
        },
        "id": "wD1K0e6FJN8l",
        "outputId": "8db97e42-74fb-42da-b1a1-a595ff59c74e"
      },
      "source": [
        "\n",
        "## P(X<64)=P(Z<(64-70)/3)\n",
        "w= (64-70)/3\n",
        "w"
      ],
      "execution_count": null,
      "outputs": [
        {
          "output_type": "execute_result",
          "data": {
            "text/plain": [
              "-2.0"
            ]
          },
          "metadata": {
            "tags": []
          },
          "execution_count": 28
        }
      ]
    },
    {
      "cell_type": "code",
      "metadata": {
        "colab": {
          "base_uri": "https://localhost:8080/"
        },
        "id": "iSCw0iKqL9c-",
        "outputId": "e505cf02-2432-409e-fb89-f65d4443a6a3"
      },
      "source": [
        "#P(Z<-2)\n",
        "#=1-P(Z<2) Sacamos el valor de las tablas de Z que vimos en clase.\n",
        "\n",
        "M64 = 1-0.9772\n",
        "M64\n",
        "print(f'los estudiantes que pesan Menos de 64 son:  {round((M64)*500)}')"
      ],
      "execution_count": null,
      "outputs": [
        {
          "output_type": "stream",
          "text": [
            "los estudiantes que pesan Menos de 64 son:  11\n"
          ],
          "name": "stdout"
        }
      ]
    },
    {
      "cell_type": "markdown",
      "metadata": {
        "id": "Eq8lTL4kNW_z"
      },
      "source": [
        "**4). 64 kg.**"
      ]
    },
    {
      "cell_type": "code",
      "metadata": {
        "id": "pT-9mc3TMzeK"
      },
      "source": [
        "#Cuando la distribución es continua, la probabilidad de que la variable tenga un valor exacto siempre es Cero (0).\n",
        "P(X=64)= 0"
      ],
      "execution_count": null,
      "outputs": []
    },
    {
      "cell_type": "markdown",
      "metadata": {
        "id": "8UpOedfXOyCS"
      },
      "source": [
        "**5). 64 kg o menos.**\n",
        "\n",
        "\n"
      ]
    },
    {
      "cell_type": "code",
      "metadata": {
        "colab": {
          "base_uri": "https://localhost:8080/"
        },
        "id": "obeKvsfVPRLv",
        "outputId": "bdf97c26-bae6-4828-e6a5-2155897316ae"
      },
      "source": [
        "x=P.cdf(64)\n",
        "print(f'los estudiantes que pesan 64kg o menos son:  {round((x)*500)}') "
      ],
      "execution_count": null,
      "outputs": [
        {
          "output_type": "stream",
          "text": [
            "los estudiantes que pesan 64kg o menos son:  11.0\n"
          ],
          "name": "stdout"
        }
      ]
    },
    {
      "cell_type": "markdown",
      "metadata": {
        "id": "plhX9dcdPwkA"
      },
      "source": [
        "Como en el anterior punto nos da que cero estudiantes pesan 64 kilogramos exactos y hay 11 estudiantes que pesan menos de 64 kilogramos, entonces, existen 11 estudiantes que pesan 64 kilogramos o menos."
      ]
    },
    {
      "cell_type": "markdown",
      "metadata": {
        "id": "XNt4zaxQsu3Q"
      },
      "source": [
        "##Ejercicio 8\n",
        "Si  X  es una variable aleatoria de una distribución $N(\\mu, \\sigma)$, hallar: $P(\\mu - 3\\sigma \\leq X \\leq \\mu + 3\\sigma)$."
      ]
    },
    {
      "cell_type": "markdown",
      "metadata": {
        "id": "UKR-N8EfSy7K"
      },
      "source": [
        " $P(\\mu - 3\\sigma \\leq X \\leq \\mu + 3\\sigma)$ =  $P((((\\mu - 3\\sigma)- \\mu)/\\sigma) \\leq Z \\leq  (((\\mu + 3\\sigma)- \\mu)/\\sigma))$\n",
        "\n",
        "\n",
        "\n"
      ]
    },
    {
      "cell_type": "markdown",
      "metadata": {
        "id": "IpSKDs6bUU_B"
      },
      "source": [
        " =$P(-3 \\leq Z \\leq  3)$"
      ]
    },
    {
      "cell_type": "markdown",
      "metadata": {
        "id": "T_q8KmkOUqvf"
      },
      "source": [
        "=$P(Z \\leq  3)-P(Z \\leq  -3)$"
      ]
    },
    {
      "cell_type": "code",
      "metadata": {
        "id": "fjf0vB__swr-",
        "colab": {
          "base_uri": "https://localhost:8080/"
        },
        "outputId": "7569489e-a766-4180-c928-5b3e53578398"
      },
      "source": [
        "P = stats.norm()\n",
        "P1=P.cdf(-3)\n",
        "P2=P.cdf(3)\n",
        "print(P2-P1)"
      ],
      "execution_count": null,
      "outputs": [
        {
          "output_type": "stream",
          "text": [
            "0.9973002039367398\n"
          ],
          "name": "stdout"
        }
      ]
    },
    {
      "cell_type": "markdown",
      "metadata": {
        "id": "WUtfg7BStZhw"
      },
      "source": [
        "##Ejercicio 9\n",
        "El tiempo de revisión del motor de un avión sigue una distribución exponencial con media \n",
        "22 minutos.\n",
        "\n",
        "a) Encontrar la probabilidad de que el tiempo de revisión sea menor a \n",
        "10 minutos.\n",
        "\n",
        "b) ¿Cuál es el tiempo de revisión de un motor superado por el \n",
        "10% de los tiempos de revisión?\n",
        "\n",
        "c) El costo de revisión es de \n",
        "200 unidades monetarias fijas al que se le suma 10 unidades monetarias por el tiempo que dure la revisión. Encontrar la media y la varianza del costo."
      ]
    },
    {
      "cell_type": "code",
      "metadata": {
        "colab": {
          "base_uri": "https://localhost:8080/"
        },
        "id": "Xmka9dViISsM",
        "outputId": "af4e3cd4-d4dd-4ebd-98d0-d11fb518923b"
      },
      "source": [
        "miu= 22\n",
        "t=10\n",
        "#a) probabilidad de que el tiempo de revisión sea menor a 10 minutos\n",
        "\n",
        "revision = 1-np. exp(-(t/miu))\n",
        "print(f'la probabilidad de que de que el tiempo de revisión sea menor a 10 minutos es: {revision}')"
      ],
      "execution_count": null,
      "outputs": [
        {
          "output_type": "stream",
          "text": [
            "la probabilidad de que de que el tiempo de revisión sea menor a 10 minutos es: 0.3652635810597181\n"
          ],
          "name": "stdout"
        }
      ]
    },
    {
      "cell_type": "code",
      "metadata": {
        "colab": {
          "base_uri": "https://localhost:8080/"
        },
        "id": "EaYYWGgnr1N0",
        "outputId": "d5840668-4e1e-4916-be4b-807a21a550e7"
      },
      "source": [
        "#b) ¿Cuál es el tiempo de revisión de un motor superado por el 10% de los tiempos de revisión?\n",
        "\n",
        "tiemporev= stats.expon.ppf(0.9, loc=0, scale=22)\n",
        "print(f'El tiempo de revisión de un motor superado por el 10% de los tiempos de revisión es: {tiemporev}')"
      ],
      "execution_count": null,
      "outputs": [
        {
          "output_type": "stream",
          "text": [
            "El tiempo de revisión de un motor superado por el 10% de los tiempos de revisión es: 50.65687204586901\n"
          ],
          "name": "stdout"
        }
      ]
    },
    {
      "cell_type": "code",
      "metadata": {
        "colab": {
          "base_uri": "https://localhost:8080/"
        },
        "id": "WDEZhHkgJj5K",
        "outputId": "3c6859fb-85fc-4b6b-eaa8-0ee5a9cb463e"
      },
      "source": [
        "#c) El costo de revisión es de 200 unidades monetarias fijas al que se le suma 10 unidades monetarias por el tiempo que dure la revisión. Encontrar la media y la varianza del costo.\n",
        "def costo(t):\n",
        "   return 200+(10*t)\n",
        "\n",
        "tmiu=22\n",
        "cmed= costo(tmiu)\n",
        "var= (10**2)*(tmiu)**2\n",
        "\n",
        "print(f'La media del costo es {cmed} y la varianza del costo es: {var}')"
      ],
      "execution_count": null,
      "outputs": [
        {
          "output_type": "stream",
          "text": [
            "La media del costo es 420 y la varianza del costo es: 48400\n"
          ],
          "name": "stdout"
        }
      ]
    },
    {
      "cell_type": "markdown",
      "metadata": {
        "id": "iZvR15mqt26G"
      },
      "source": [
        "##Ejercicio 10\n",
        "Un matrimonio quiere tener una hija, y por ello deciden tener hijos hasta el nacimientode una hija. Calcular el número esperado de hijos (entre niños y niñas) que tendría el matrimonio. Calcular la probabilidad de que la pareja acabe teniendo tres hijos o más."
      ]
    },
    {
      "cell_type": "markdown",
      "metadata": {
        "id": "gxF_1xwWqKVr"
      },
      "source": [
        "**Número esperado de hijos entre niños y niñas**\n",
        "$$\\mu = \\frac{1}{p} \\quad $$"
      ]
    },
    {
      "cell_type": "code",
      "metadata": {
        "colab": {
          "base_uri": "https://localhost:8080/"
        },
        "id": "o5Bo3Koyqcdu",
        "outputId": "ffee424b-1a11-424b-d11a-c9f2aa0901d6"
      },
      "source": [
        "#Número esperado entre niños y niñas\n",
        "miu= 1/0.5\n",
        "miu"
      ],
      "execution_count": null,
      "outputs": [
        {
          "output_type": "execute_result",
          "data": {
            "text/plain": [
              "2.0"
            ]
          },
          "metadata": {
            "tags": []
          },
          "execution_count": 6
        }
      ]
    },
    {
      "cell_type": "markdown",
      "metadata": {
        "id": "Ku_AsZsaq3he"
      },
      "source": [
        "La probabilidad de que la pareja acabe teniendo tres o más hijos, es la de que tenga 2 o más hijos varones (la niña está del tercer lugar en adelante), es decir\n",
        "\n",
        "= P($X \\geq 3)$ = 1 - P(X < 3)"
      ]
    },
    {
      "cell_type": "code",
      "metadata": {
        "id": "OmMBnjv-tl1n",
        "colab": {
          "base_uri": "https://localhost:8080/"
        },
        "outputId": "677f7c3d-93cc-4156-fa8a-2da2e414dce3"
      },
      "source": [
        "N = stats.geom(0.5)\n",
        "Niños= N.sf(2)\n",
        "print(f'la probabilidad de que la pareja acabe teniendo tres hijos o más: {Niños}')\n"
      ],
      "execution_count": null,
      "outputs": [
        {
          "output_type": "stream",
          "text": [
            "la probabilidad de que la pareja acabe teniendo tres hijos o más: 0.25\n"
          ],
          "name": "stdout"
        }
      ]
    }
  ]
}